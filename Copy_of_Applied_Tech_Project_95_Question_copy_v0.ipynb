{
  "nbformat": 4,
  "nbformat_minor": 0,
  "metadata": {
    "colab": {
      "name": "Copy of Applied Tech. Project 95: Question_copy_v0.ipynb",
      "provenance": [],
      "collapsed_sections": [],
      "include_colab_link": true
    },
    "kernelspec": {
      "name": "python3",
      "display_name": "Python 3"
    },
    "language_info": {
      "name": "python"
    }
  },
  "cells": [
    {
      "cell_type": "markdown",
      "metadata": {
        "id": "view-in-github",
        "colab_type": "text"
      },
      "source": [
        "<a href=\"https://colab.research.google.com/github/S734-pixel/hello-world/blob/master/Copy_of_Applied_Tech_Project_95_Question_copy_v0.ipynb\" target=\"_parent\"><img src=\"https://colab.research.google.com/assets/colab-badge.svg\" alt=\"Open In Colab\"/></a>"
      ]
    },
    {
      "cell_type": "markdown",
      "metadata": {
        "id": "erYQyGJOT0Ya"
      },
      "source": [
        "### Instructions"
      ]
    },
    {
      "cell_type": "markdown",
      "metadata": {
        "id": "bEyBzxYRhrLG"
      },
      "source": [
        "#### Goal of the Project\n",
        "\n",
        "This project is designed for you to practice and solve the activities that are based on the concepts covered in the lessons: \n",
        "\n",
        "  * Streamlit Framework I\n",
        "  * Streamlit Framework II\n",
        "  * Streamlit Widgets I\n",
        "  * Streamlit Widgets II"
      ]
    },
    {
      "cell_type": "markdown",
      "metadata": {
        "id": "pIrCR0_QMp18"
      },
      "source": [
        "---"
      ]
    },
    {
      "cell_type": "markdown",
      "metadata": {
        "id": "4jXA8ajKE319"
      },
      "source": [
        "#### Getting Started:\n",
        "\n",
        "1. Click on this link to open the Colab file for this project.\n",
        "\n",
        "   https://colab.research.google.com/drive/1RGwqebmv1k2UPVrDBK3Yya0fHqXugqit\n",
        "\n",
        "2. Create a duplicate copy of the Colab file as described below.\n",
        "\n",
        "  - Click on the **File menu**. A new drop-down list will appear.\n",
        "\n",
        "   <img src='https://student-datasets-bucket.s3.ap-south-1.amazonaws.com/images/lesson-0/0_file_menu.png' width=500>\n",
        "\n",
        "  - Click on the **Save a copy in Drive** option. A duplicate copy will get created. It will open up in the new tab on your web browser.\n",
        "\n",
        "  <img src='https://student-datasets-bucket.s3.ap-south-1.amazonaws.com/images/lesson-0/1_create_colab_duplicate_copy.png' width=500>\n",
        "\n",
        "3. After creating the duplicate copy of the notebook, please rename it in the **YYYY-MM-DD_StudentName_Project95** format.\n",
        "\n",
        "4. Now, write your code in the prescribed code cells.\n"
      ]
    },
    {
      "cell_type": "markdown",
      "metadata": {
        "id": "LWfL2UrQE3W1"
      },
      "source": [
        "---"
      ]
    },
    {
      "cell_type": "markdown",
      "metadata": {
        "id": "oHEruqrlZewu"
      },
      "source": [
        "#### Problem Statement\n",
        "\n",
        "In this project, you are going to create a Census Data Visualization Web app using the Streamlit framework to display the 5 specific conditions given in **Activity 2**. \n",
        "\n"
      ]
    },
    {
      "cell_type": "markdown",
      "metadata": {
        "id": "qIVNEyp4Mrem"
      },
      "source": [
        "---"
      ]
    },
    {
      "cell_type": "markdown",
      "metadata": {
        "id": "2LpOy28nkFG_"
      },
      "source": [
        "### Dataset Description\n",
        "\n",
        "The dataset includes 32561 instances with 14 features and 1 target column which can be briefed as:\n",
        "\n",
        "|Field|Description|\n",
        "|---:|:---|\n",
        "|age|age of the person, Integer.|\n",
        "|work-class| employment information about the individual, Categorical.|\n",
        "|fnlwgt| unknown weights, Integer.|\n",
        "|education| highest level of education obtained, Categorical.|\n",
        "|education-years|number of years of education, Integer.|\n",
        "|marital-status| marital status of the person, Categorical.|\n",
        "|occupation|job title, Categorical.|\n",
        "|relationship| individual relation in the family-like wife, husband, and so on, Categorical.|\n",
        "|race|Categorical.|\n",
        "|sex| gender, Male, or Female.|\n",
        "|capital-gain| gain from sources other than salary/wages, Integer.|\n",
        "|capital-loss| loss from sources other than salary/wages, Integer.|\n",
        "|hours-per-week| hours worked per week, Integer.|\n",
        "|native-country| name of the native country, Categorical.|\n",
        "|income-group| annual income, Categorical,  **<=50k** or **>50k**.|\n",
        "\n",
        "\n",
        "**Notes:**\n",
        "1. The dataset has no header row for the column name. (Can add column names manually)\n",
        "2. There are invalid values in the dataset marked as **\"?\"**.\n",
        "3. As the information about **fnlwgt** is non-existent it can be removed before model training.\n",
        "4. Take note of the **whitespaces (\" \")**  throughout the dataset. \n",
        "\n",
        "\n",
        "\n",
        "**Dataset Credits:** https://archive.ics.uci.edu/ml/datasets/adult \n",
        "\n",
        "**Dataset Creator:**\n",
        "```\n",
        "Dua, D., & Graff, C.. (2017). UCI Machine Learning Repository.\n",
        "```"
      ]
    },
    {
      "cell_type": "markdown",
      "metadata": {
        "id": "83FgC947OzV4"
      },
      "source": [
        "---"
      ]
    },
    {
      "cell_type": "markdown",
      "metadata": {
        "id": "dkkg2QzEu3lP"
      },
      "source": [
        "### List of Activities\n",
        " \n",
        "**Activity 1:** Filter Streamlit Warnings \n",
        "  \n",
        "**Activity 2:** Design the Visualisation Web App"
      ]
    },
    {
      "cell_type": "markdown",
      "metadata": {
        "id": "eUc0Lq-HlQ3O"
      },
      "source": [
        "---"
      ]
    },
    {
      "cell_type": "markdown",
      "metadata": {
        "id": "DQSgqaR1lire"
      },
      "source": [
        "#### Creating Python File for the Visualisation Web App\n",
        "\n",
        "\n",
        "In this activity, you have to create a Python file `census_app.py` in Sublime editor and save it in the `Python_scripts` folder. \n",
        "\n",
        "Copy the code given below in the `cenus_app.py` file. You are already aware of this code which creates a function that will load the data from the csv file.\n",
        "\n",
        "**Dataset Link:** https://student-datasets-bucket.s3.ap-south-1.amazonaws.com/whitehat-ds-datasets/adult.csv\n",
        "\n",
        "**Note:** Do not run the code shown below. It will throw an error.\n"
      ]
    },
    {
      "cell_type": "code",
      "metadata": {
        "id": "4AWWc0FxkxCq",
        "colab": {
          "base_uri": "https://localhost:8080/",
          "height": 374
        },
        "outputId": "47919a74-2c08-4f6c-dc5d-7dcc540244ac"
      },
      "source": [
        "# Open Sublime text editor, create a new Python file, copy the following code in it and save it as 'census_app.py'.\n",
        "\n",
        "# Import modules\n",
        "import numpy as np\n",
        "import pandas as pd\n",
        "import matplotlib.pyplot as plt\n",
        "import seaborn as sns\n",
        "import streamlit as st\n",
        "\n",
        "@st.cache()\n",
        "def load_data():\n",
        "\t# Load the Adult Income dataset into DataFrame.\n",
        "\n",
        "\tdf = pd.read_csv('https://student-datasets-bucket.s3.ap-south-1.amazonaws.com/whitehat-ds-datasets/adult.csv', header=None)\n",
        "\tdf.head()\n",
        "\n",
        "\t# Rename the column names in the DataFrame using the list given above. \n",
        "\n",
        "\t# Create the list\n",
        "\tcolumn_name =['age', 'workclass', 'fnlwgt', 'education', 'education-years', 'marital-status', 'occupation', 'relationship', 'race','gender','capital-gain', 'capital-loss', 'hours-per-week', 'native-country', 'income']\n",
        "\n",
        "\t# Rename the columns using 'rename()'\n",
        "\tfor i in range(df.shape[1]):\n",
        "\t  df.rename(columns={i:column_name[i]},inplace=True)\n",
        "\n",
        "\t# Print the first five rows of the DataFrame\n",
        "\tdf.head()\n",
        "\n",
        "\t# Replace the invalid values ' ?' with 'np.nan'.\n",
        "\n",
        "\tdf['native-country'] = df['native-country'].replace(' ?',np.nan)\n",
        "\tdf['workclass'] = df['workclass'].replace(' ?',np.nan)\n",
        "\tdf['occupation'] = df['occupation'].replace(' ?',np.nan)\n",
        "\n",
        "\t# Delete the rows with invalid values and the column not required \n",
        "\n",
        "\t# Delete the rows with the 'dropna()' function\n",
        "\tdf.dropna(inplace=True)\n",
        "\n",
        "\t# Delete the column with the 'drop()' function\n",
        "\tdf.drop(columns='fnlwgt',axis=1,inplace=True)\n",
        "\n",
        "\treturn df\n",
        "\n",
        "census_df = load_data()"
      ],
      "execution_count": null,
      "outputs": [
        {
          "output_type": "error",
          "ename": "ModuleNotFoundError",
          "evalue": "ignored",
          "traceback": [
            "\u001b[0;31m---------------------------------------------------------------------------\u001b[0m",
            "\u001b[0;31mModuleNotFoundError\u001b[0m                       Traceback (most recent call last)",
            "\u001b[0;32m<ipython-input-4-9318ddfdc678>\u001b[0m in \u001b[0;36m<module>\u001b[0;34m()\u001b[0m\n\u001b[1;32m      6\u001b[0m \u001b[0;32mimport\u001b[0m \u001b[0mmatplotlib\u001b[0m\u001b[0;34m.\u001b[0m\u001b[0mpyplot\u001b[0m \u001b[0;32mas\u001b[0m \u001b[0mplt\u001b[0m\u001b[0;34m\u001b[0m\u001b[0;34m\u001b[0m\u001b[0m\n\u001b[1;32m      7\u001b[0m \u001b[0;32mimport\u001b[0m \u001b[0mseaborn\u001b[0m \u001b[0;32mas\u001b[0m \u001b[0msns\u001b[0m\u001b[0;34m\u001b[0m\u001b[0;34m\u001b[0m\u001b[0m\n\u001b[0;32m----> 8\u001b[0;31m \u001b[0;32mimport\u001b[0m \u001b[0mstreamlit\u001b[0m \u001b[0;32mas\u001b[0m \u001b[0mst\u001b[0m\u001b[0;34m\u001b[0m\u001b[0;34m\u001b[0m\u001b[0m\n\u001b[0m\u001b[1;32m      9\u001b[0m \u001b[0;34m\u001b[0m\u001b[0m\n\u001b[1;32m     10\u001b[0m \u001b[0;34m@\u001b[0m\u001b[0mst\u001b[0m\u001b[0;34m.\u001b[0m\u001b[0mcache\u001b[0m\u001b[0;34m(\u001b[0m\u001b[0;34m)\u001b[0m\u001b[0;34m\u001b[0m\u001b[0;34m\u001b[0m\u001b[0m\n",
            "\u001b[0;31mModuleNotFoundError\u001b[0m: No module named 'streamlit'",
            "",
            "\u001b[0;31m---------------------------------------------------------------------------\u001b[0;32m\nNOTE: If your import is failing due to a missing package, you can\nmanually install dependencies using either !pip or !apt.\n\nTo view examples of installing some common dependencies, click the\n\"Open Examples\" button below.\n\u001b[0;31m---------------------------------------------------------------------------\u001b[0m\n"
          ],
          "errorDetails": {
            "actions": [
              {
                "action": "open_url",
                "actionText": "Open Examples",
                "url": "/notebooks/snippets/importing_libraries.ipynb"
              }
            ]
          }
        }
      ]
    },
    {
      "cell_type": "markdown",
      "metadata": {
        "id": "ylovUlJ27Uqu"
      },
      "source": [
        "---"
      ]
    },
    {
      "cell_type": "markdown",
      "metadata": {
        "id": "kmYfwBox6ywl"
      },
      "source": [
        "#### Activity 1: Filter Streamlit Warnings \n",
        "\n",
        "Filter the warnings for streamlit using `st.set_option('deprecation.showPyplotGlobalUse', False)`. "
      ]
    },
    {
      "cell_type": "code",
      "metadata": {
        "id": "C80o7XqG6t6j",
        "colab": {
          "base_uri": "https://localhost:8080/",
          "height": 200
        },
        "outputId": "12529afa-54ee-40a4-adb8-10049226a37a"
      },
      "source": [
        "# Write your code to filter streamlit warnings \n",
        "import warnings\n",
        "st.set_option('deprecation.showPyplotGlobalUse', False)"
      ],
      "execution_count": null,
      "outputs": [
        {
          "output_type": "error",
          "ename": "NameError",
          "evalue": "ignored",
          "traceback": [
            "\u001b[0;31m---------------------------------------------------------------------------\u001b[0m",
            "\u001b[0;31mNameError\u001b[0m                                 Traceback (most recent call last)",
            "\u001b[0;32m<ipython-input-5-a0e0f44782f8>\u001b[0m in \u001b[0;36m<module>\u001b[0;34m()\u001b[0m\n\u001b[1;32m      1\u001b[0m \u001b[0;31m# Write your code to filter streamlit warnings\u001b[0m\u001b[0;34m\u001b[0m\u001b[0;34m\u001b[0m\u001b[0;34m\u001b[0m\u001b[0m\n\u001b[1;32m      2\u001b[0m \u001b[0;32mimport\u001b[0m \u001b[0mwarnings\u001b[0m\u001b[0;34m\u001b[0m\u001b[0;34m\u001b[0m\u001b[0m\n\u001b[0;32m----> 3\u001b[0;31m \u001b[0mst\u001b[0m\u001b[0;34m.\u001b[0m\u001b[0mset_option\u001b[0m\u001b[0;34m(\u001b[0m\u001b[0;34m'deprecation.showPyplotGlobalUse'\u001b[0m\u001b[0;34m,\u001b[0m \u001b[0;32mFalse\u001b[0m\u001b[0;34m)\u001b[0m\u001b[0;34m\u001b[0m\u001b[0;34m\u001b[0m\u001b[0m\n\u001b[0m",
            "\u001b[0;31mNameError\u001b[0m: name 'st' is not defined"
          ]
        }
      ]
    },
    {
      "cell_type": "markdown",
      "metadata": {
        "id": "KryHTK7anNAQ"
      },
      "source": [
        "**After this step, the Python file should be created on the local system with the function to load the data from the csv data file.**"
      ]
    },
    {
      "cell_type": "markdown",
      "metadata": {
        "id": "7vDlD2qeliBz"
      },
      "source": [
        "---"
      ]
    },
    {
      "cell_type": "markdown",
      "metadata": {
        "id": "oOfumZ-6pv98"
      },
      "source": [
        "####Activity 2: Design the Visualisation Web App\n",
        "\n",
        "In this activity, you have to design the user interface of the web app that displays the graphs for the following conditions:\n",
        "\n",
        "1. Create a chart/plot to display the distribution of records for the `income-group` feature.\n",
        "\n",
        "2. Create a chart/plot to display the distribution of records for the `gender` feature.\n",
        "\n",
        "3. Create a chart/plot to display the difference in the range of values for the `hours-per-week` feature for different income groups.\n",
        "\n",
        "4. Create a chart/plot to display the difference in the range of values for the `hours-per-week` features for different gender groups.\n",
        "\n",
        "5. Create a chart/plot to display the count of a number of records for unique `workclass` feature values for different income groups.\n",
        "\n",
        "\n",
        "**Steps:**\n",
        "\n",
        "1. Add the title to the app.\n",
        "\n",
        "2.  Create a slider to display the **Menu**.\n",
        "\n",
        "3. Add an option to display the raw data in the Menu.\n",
        "\n",
        "4. Add a multiselect to display the selection of the chart/plot options available.\n",
        "\n",
        "  **Note:** The chart/plot options displayed should be corresponding to the 5 conditions asked above.\n"
      ]
    },
    {
      "cell_type": "code",
      "metadata": {
        "id": "BOjRC_ujpIoq"
      },
      "source": [
        "# Write the code to design the web app\n",
        "# Add title on the main page and in the sidebar.\n",
        "st.title(\"Census Data Visualization Web App\")\n",
        "st.sidebar.title(\"Menu\")\n",
        "# Using the 'if' statement, display raw data on the click of the checkbox.\n",
        "if st.sidebar.checkbox(\"show Raw Data\"):\n",
        "   st.subheader(\"Census Data Set\")\n",
        "   st.dataframe(census_df)\n",
        "   st.write(\"no .of rows\", census_df.shape[0])\n",
        "   st.write(\"no .of columns\", census_df.shape[1])\n",
        "# Add a multiselect widget to allow the user to select multiple visualisations.\n",
        "# Add a subheader in the sidebar with the label \"Visualisation Selector\"\n",
        "st.sidebar.subheader(\"Visualization Selector\")\n",
        "# Add a multiselect in the sidebar with label 'Select the Charts/Plots:'\n",
        "plot_list = st.sidebar.multiselect(\"Select the Charts\\Plots\", (\"Pie Charts\", \"Box Plot\", \"Count Plot\"))\n",
        "# Store the current value of this widget in a variable 'plot_list'.\n",
        "# Display pie plot using matplotlib module and 'st.pyplot()'\n",
        "if \"Pie Charts\" in plot_list:\n",
        "  st.subheader(\"Pie Charts\")\n",
        "  column = st.sidebar.multiselect(\"select the column for Pie Charts\", (\"income\", \"gender\"))\n",
        "  for i in column:\n",
        "    Pie_data = census_df[i].value_counts()\n",
        "    plt.figure(figsize= (5, 5))\n",
        "    plt.title(\"Distribution of Pie Charts\")\n",
        "    plt.pie(Pie_data, labels= Pie_data.index, autopct= \"%1.2f%%\", startangle= 30, explode= np.linspace(0.01, 0.05, len(Pie_data)))\n",
        "    st.pyplot()\n",
        "# Display box plot using matplotlib module and 'st.pyplot()'\n",
        "if \"Box Plot\" in plot_list:\n",
        "  st.subheader(\"Box Plot\")\n",
        "  hue_columns = st.sidebar.multiselect(\"select the column for Box Plot\", (\"income\", \"gender\"))\n",
        "  for i in hue_columns:\n",
        "    plt.figure(figsize= (5, 5))\n",
        "    plt.title(\"Distribution of Box Plot\")\n",
        "    sns.boxplot(census_df[\"hours-per-week\"], y = census_df[i])\n",
        "    st.pyplot()\n",
        "# Display count plot using seaborn module and 'st.pyplot()' \n",
        "if \"Count Plot\" in plot_list:\n",
        "  st.subheader(\"Count Plot\")\n",
        "  plt.figure(figsize= (12, 5))\n",
        "  plt.title(\"Distribution of Count Plot\")\n",
        "  sns.countplot(x= \"workclass\", hue= \"income\", data= census_df)\n",
        "  st.pyplot()"
      ],
      "execution_count": null,
      "outputs": []
    },
    {
      "cell_type": "markdown",
      "metadata": {
        "id": "tj17oouc0xJi"
      },
      "source": [
        "**Note:** Perform the tasks in `census_app.py` Python file in **Sublime editor** and run your code using command prompt or terminal. Once you get the desired output, write the code in the code section given above.\n",
        "\n",
        "**Hint:** The app should look something like this:\n",
        "<center><img src= 'https://s3-whjr-v2-prod-bucket.whjr.online/ca325ae8-116a-4f0b-98ec-7c028ef1525c.gif' > </center>\n",
        "\n"
      ]
    },
    {
      "cell_type": "markdown",
      "metadata": {
        "id": "eu63xe_W001D"
      },
      "source": [
        "---"
      ]
    },
    {
      "cell_type": "markdown",
      "metadata": {
        "id": "2VasB_TCuzV4"
      },
      "source": [
        "**Questions:**\n",
        "\n",
        "**Q:** Which chart/plot can be used to display the distribution of records for the `income-group` feature.\n",
        "\n",
        "**A:** \n",
        "\n",
        "**Q:** Which chart/plot can be used to display the distribution of records for the `gender` feature.\n",
        "\n",
        "**A:** \n",
        "\n",
        "**Q:** Which chart/plot can be used to display the difference in the range of values for the `hours-per-week` feature for different income groups.\n",
        "\n",
        "**A:** \n",
        "\n",
        "**Q:** Which chart/plot can be used to display the difference in the range of values for the `hours-per-week` feature for different gender groups.\n",
        "\n",
        "**A:** \n",
        "\n",
        "**Q:** Which chart/plot can be used to display the count of a number of records for unique `workclass` feature values for different income groups.\n",
        "\n",
        "**A:** \n"
      ]
    },
    {
      "cell_type": "markdown",
      "metadata": {
        "id": "6Upj7TYq8Du1"
      },
      "source": [
        "**After this activity, the Visualization web app should be ready for show-case. Please upload the required files in github and submit the link of the github repository**"
      ]
    },
    {
      "cell_type": "markdown",
      "metadata": {
        "id": "TIAWJoC1vmXr"
      },
      "source": [
        "---"
      ]
    },
    {
      "cell_type": "markdown",
      "metadata": {
        "id": "5t3F9mzBvxp6"
      },
      "source": [
        "**Write your interpretation of the results of the charts/plots here.**\n",
        "\n",
        "- Interpretation 1: \n",
        "\n",
        "- Interpretation 2: \n",
        "\n",
        "- Interpretation 3: \n",
        "\n",
        "- Interpretation 4: \n",
        "\n",
        "- Interpretation 5:\n",
        "\n",
        "\n"
      ]
    },
    {
      "cell_type": "markdown",
      "metadata": {
        "id": "9xCFo4cF0lqw"
      },
      "source": [
        "---"
      ]
    },
    {
      "cell_type": "markdown",
      "metadata": {
        "id": "0Jc1LgfGDtdS"
      },
      "source": [
        "### Submitting the Project:\n",
        "\n",
        "1. After finishing the project, click on the **Share** button on the top right corner of the notebook. A new dialog box will appear.\n",
        "\n",
        "  <img src='https://student-datasets-bucket.s3.ap-south-1.amazonaws.com/images/project-share-images/2_share_button.png' width=500>\n",
        "\n",
        "2. In the dialog box, make sure that '**Anyone on the Internet with this link can view**' option is selected and then click on the **Copy link** button.\n",
        "\n",
        "   <img src='https://student-datasets-bucket.s3.ap-south-1.amazonaws.com/images/project-share-images/3_copy_link.png' width=500>\n",
        "\n",
        "3. The link of the duplicate copy (named as **YYYY-MM-DD_StudentName_Project95**) of the notebook will get copied.\n",
        "\n",
        "   <img src='https://student-datasets-bucket.s3.ap-south-1.amazonaws.com/images/project-share-images/4_copy_link_confirmation.png' width=500>\n",
        "\n",
        "4. Go to your dashboard and click on the **My Projects** option.\n",
        "   \n",
        "   <img src='https://student-datasets-bucket.s3.ap-south-1.amazonaws.com/images/project-share-images/5_student_dashboard.png' width=800>\n",
        "\n",
        "  <img src='https://student-datasets-bucket.s3.ap-south-1.amazonaws.com/images/project-share-images/6_my_projects.png' width=800>\n",
        "\n",
        "5. Click on the **View Project** button for the project you want to submit.\n",
        "\n",
        "   <img src='https://student-datasets-bucket.s3.ap-south-1.amazonaws.com/images/project-share-images/7_view_project.png' width=800>\n",
        "\n",
        "6. Click on the **Submit Project Here** button.\n",
        "\n",
        "   <img src='https://student-datasets-bucket.s3.ap-south-1.amazonaws.com/images/project-share-images/8_submit_project.png' width=800>\n",
        "\n",
        "7. Paste the link to the project file named as **YYYY-MM-DD_StudentName_Project95** in the URL box and then click on the **Submit** button.\n",
        "\n",
        "   <img src='https://student-datasets-bucket.s3.ap-south-1.amazonaws.com/images/project-share-images/9_enter_project_url.png' width=800> "
      ]
    },
    {
      "cell_type": "markdown",
      "metadata": {
        "id": "uJuqi2DRDsyz"
      },
      "source": [
        "---"
      ]
    }
  ]
}