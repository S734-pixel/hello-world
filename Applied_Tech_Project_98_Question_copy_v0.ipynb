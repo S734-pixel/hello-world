{
  "nbformat": 4,
  "nbformat_minor": 0,
  "metadata": {
    "colab": {
      "name": "Applied Tech. Project 98: Question_copy_v0.ipynb",
      "provenance": [],
      "collapsed_sections": [],
      "include_colab_link": true
    },
    "kernelspec": {
      "name": "python3",
      "display_name": "Python 3"
    },
    "language_info": {
      "name": "python"
    }
  },
  "cells": [
    {
      "cell_type": "markdown",
      "metadata": {
        "id": "view-in-github",
        "colab_type": "text"
      },
      "source": [
        "<a href=\"https://colab.research.google.com/github/S734-pixel/hello-world/blob/master/Applied_Tech_Project_98_Question_copy_v0.ipynb\" target=\"_parent\"><img src=\"https://colab.research.google.com/assets/colab-badge.svg\" alt=\"Open In Colab\"/></a>"
      ]
    },
    {
      "cell_type": "markdown",
      "metadata": {
        "id": "erYQyGJOT0Ya"
      },
      "source": [
        "### Instructions"
      ]
    },
    {
      "cell_type": "markdown",
      "metadata": {
        "id": "bEyBzxYRhrLG"
      },
      "source": [
        "#### Goal of the Project\n",
        "\n",
        "This project is designed for you to practice and solve the activities that are based on the concepts covered in the lesson: \n",
        "\n",
        "  Detect Credit Card Defaulters - Pivot Tables & Subplots"
      ]
    },
    {
      "cell_type": "markdown",
      "metadata": {
        "id": "pIrCR0_QMp18"
      },
      "source": [
        "---"
      ]
    },
    {
      "cell_type": "markdown",
      "metadata": {
        "id": "TyEW_v0Y0AwC"
      },
      "source": [
        "#### Getting Started:\n",
        "\n",
        "1. Click on this link to open the Colab file for this project.\n",
        "\n",
        "   https://colab.research.google.com/drive/1awgFNs0X--xyH6xHHv3_UknFfpC83_Ql\n",
        "\n",
        "2. Create a duplicate copy of the Colab file as described below.\n",
        "\n",
        "  - Click on the **File menu**. A new drop-down list will appear.\n",
        "\n",
        "   <img src='https://student-datasets-bucket.s3.ap-south-1.amazonaws.com/images/lesson-0/0_file_menu.png' width=500>\n",
        "\n",
        "  - Click on the **Save a copy in Drive** option. A duplicate copy will get created. It will open up in the new tab on your web browser.\n",
        "\n",
        "  <img src='https://student-datasets-bucket.s3.ap-south-1.amazonaws.com/images/lesson-0/1_create_colab_duplicate_copy.png' width=500>\n",
        "\n",
        "3. After creating the duplicate copy of the notebook, please rename it in the **YYYY-MM-DD_StudentName_Project98** format.\n",
        "\n",
        "4. Now, write your code in the prescribed code cells.\n"
      ]
    },
    {
      "cell_type": "markdown",
      "metadata": {
        "id": "ITLT_FNI0APz"
      },
      "source": [
        "---"
      ]
    },
    {
      "cell_type": "markdown",
      "metadata": {
        "id": "IHXiYo9bCMu4"
      },
      "source": [
        "#### Context\n",
        "\n",
        "A **gratuity** (normally called a **tip**) is a sum of money customarily given by a client or customer to certain service sector workers for the service they have performed, in addition to the basic price of the service. \n",
        "\n",
        "Food servers’ tips in restaurants may be influenced by many\n",
        "factors, including the nature of the restaurant, the size of the party, and table\n",
        "locations in the restaurant. Restaurant managers need to know which factors\n",
        "matter when they assign tables to food servers. "
      ]
    },
    {
      "cell_type": "markdown",
      "metadata": {
        "id": "dYVtTiXHCMFp"
      },
      "source": [
        "---"
      ]
    },
    {
      "cell_type": "markdown",
      "metadata": {
        "id": "oHEruqrlZewu"
      },
      "source": [
        "#### Problem Statement\n",
        "\n",
        "In this project, you are going to create  pivot tables and subplots to summarise a given data."
      ]
    },
    {
      "cell_type": "markdown",
      "metadata": {
        "id": "qIVNEyp4Mrem"
      },
      "source": [
        "---"
      ]
    },
    {
      "cell_type": "markdown",
      "metadata": {
        "id": "2LpOy28nkFG_"
      },
      "source": [
        "### Dataset Description\n",
        "\n",
        "This dataset contains the data of the total bill and tips given in a restaurant. \n",
        "\n",
        "|Field|Description|\n",
        "|---:|:---|\n",
        "|total_bill|Total bill amount (in dollars)|\n",
        "|tip|Tips are given (in dollars)|\n",
        "|sex|Gender of the person|\n",
        "|smoker|Wheather the person is a smoker or non-smoker|\n",
        "|day|Day of their visit to the restaurant|\n",
        "|time|Whether the person visited the restaurant for either lunch or dinner|\n",
        "|size|Number of people having their food together|\n",
        "\n",
        "**Dataset Credits:** The dataset is available through the Python package `seaborn`."
      ]
    },
    {
      "cell_type": "markdown",
      "metadata": {
        "id": "83FgC947OzV4"
      },
      "source": [
        "---"
      ]
    },
    {
      "cell_type": "markdown",
      "metadata": {
        "id": "dkkg2QzEu3lP"
      },
      "source": [
        "### List of Activities\n",
        " \n",
        "**Activity 1:** Pivot Table \n",
        "  \n",
        "**Activity 2:** Subplots"
      ]
    },
    {
      "cell_type": "markdown",
      "metadata": {
        "id": "eUc0Lq-HlQ3O"
      },
      "source": [
        "---"
      ]
    },
    {
      "cell_type": "markdown",
      "metadata": {
        "id": "DQSgqaR1lire"
      },
      "source": [
        "#### Activity 1: Pivot Table\n",
        "\n",
        "\n",
        "Import the necessary Python modules, read the data from a csv file to create a Pandas DataFrame and go through the necessary data-cleaning process (if required).\n",
        "\n",
        "Load the **tips.csv** dataset using `load_dataset()` function of the `seaborn` package as follows:\n",
        "\n",
        "`sns.load_dataset('tips')`\n",
        " \n",
        "\n",
        "\n"
      ]
    },
    {
      "cell_type": "code",
      "metadata": {
        "id": "4AWWc0FxkxCq",
        "colab": {
          "base_uri": "https://localhost:8080/"
        },
        "outputId": "d2180b88-0694-4622-fc0c-6c4e2ffb59e2"
      },
      "source": [
        "# Import the modules, read the dataset and create a Pandas DataFrame.\n",
        "import numpy as np\n",
        "import pandas as pd\n",
        "import seaborn as sns\n",
        "import matplotlib.pyplot as plt\n",
        "# Load tips dataset from online repository using 'seaborn' module.\n",
        "tips_df = sns.load_dataset(\"tips\")\n",
        "# Print the first five records\n",
        "print(tips_df.head(5))"
      ],
      "execution_count": 8,
      "outputs": [
        {
          "output_type": "stream",
          "name": "stdout",
          "text": [
            "   total_bill   tip     sex smoker  day    time  size\n",
            "0       16.99  1.01  Female     No  Sun  Dinner     2\n",
            "1       10.34  1.66    Male     No  Sun  Dinner     3\n",
            "2       21.01  3.50    Male     No  Sun  Dinner     3\n",
            "3       23.68  3.31    Male     No  Sun  Dinner     2\n",
            "4       24.59  3.61  Female     No  Sun  Dinner     4\n"
          ]
        }
      ]
    },
    {
      "cell_type": "markdown",
      "metadata": {
        "id": "U6x-hCMqImZe"
      },
      "source": [
        "Print the concise summary of the tips dataset to check if there exist any missing values:"
      ]
    },
    {
      "cell_type": "code",
      "metadata": {
        "id": "iKfoBbfWSoc0",
        "colab": {
          "base_uri": "https://localhost:8080/"
        },
        "outputId": "b0a37054-dde2-4af0-9eb6-a8e6ebda4e5d"
      },
      "source": [
        "# Get the total number of rows and columns, data types of columns and missing values (if exist) in the dataset. \n",
        "tips_df.info()"
      ],
      "execution_count": 9,
      "outputs": [
        {
          "output_type": "stream",
          "name": "stdout",
          "text": [
            "<class 'pandas.core.frame.DataFrame'>\n",
            "RangeIndex: 244 entries, 0 to 243\n",
            "Data columns (total 7 columns):\n",
            " #   Column      Non-Null Count  Dtype   \n",
            "---  ------      --------------  -----   \n",
            " 0   total_bill  244 non-null    float64 \n",
            " 1   tip         244 non-null    float64 \n",
            " 2   sex         244 non-null    category\n",
            " 3   smoker      244 non-null    category\n",
            " 4   day         244 non-null    category\n",
            " 5   time        244 non-null    category\n",
            " 6   size        244 non-null    int64   \n",
            "dtypes: category(4), float64(2), int64(1)\n",
            "memory usage: 7.3 KB\n"
          ]
        }
      ]
    },
    {
      "cell_type": "markdown",
      "metadata": {
        "id": "IFTZjj8HcCga"
      },
      "source": [
        "\n",
        "Display the median value of the `tip` column values and group them by `sex` and `time` columns using pivot table."
      ]
    },
    {
      "cell_type": "code",
      "metadata": {
        "id": "mIuce-m-iHmH",
        "colab": {
          "base_uri": "https://localhost:8080/"
        },
        "outputId": "dba72792-1a46-4dfc-d3c1-a5c95a14b0f3"
      },
      "source": [
        "# Display the median value of the 'tip' column values and group them by 'sex' and 'time' columns.\n",
        "pivot_table1 = pd.pivot_table(data= tips_df, values= \"tip\", index= [\"sex\", \"time\"], aggfunc= \"median\")\n",
        "print(pivot_table1)"
      ],
      "execution_count": 10,
      "outputs": [
        {
          "output_type": "stream",
          "name": "stdout",
          "text": [
            "                tip\n",
            "sex    time        \n",
            "Male   Lunch   2.31\n",
            "       Dinner  3.00\n",
            "Female Lunch   2.01\n",
            "       Dinner  3.00\n"
          ]
        }
      ]
    },
    {
      "cell_type": "markdown",
      "metadata": {
        "id": "PczTS7dxi09B"
      },
      "source": [
        "Display the total value of the `total_bill` column values and group them by `day` and `size` columns using pivot table."
      ]
    },
    {
      "cell_type": "code",
      "metadata": {
        "id": "JYFunD0ui0cA",
        "colab": {
          "base_uri": "https://localhost:8080/"
        },
        "outputId": "49a78bd0-ced0-494a-813e-bbeaa7ef0d30"
      },
      "source": [
        "# Display the total value of the 'total_bill' column values and group them by 'day' and 'size' columns.\n",
        "pivot_table2 = pd.pivot_table(data= tips_df, values= \"total_bill\", index= [\"day\", \"size\"], aggfunc= \"sum\")\n",
        "print(pivot_table2)"
      ],
      "execution_count": 11,
      "outputs": [
        {
          "output_type": "stream",
          "name": "stdout",
          "text": [
            "           total_bill\n",
            "day  size            \n",
            "Thur 1          10.07\n",
            "     2         727.53\n",
            "     3          76.64\n",
            "     4         149.75\n",
            "     5          41.19\n",
            "     6          91.15\n",
            "Fri  1           8.58\n",
            "     2         261.15\n",
            "     3          15.98\n",
            "     4          40.17\n",
            "Sat  1          10.32\n",
            "     2         892.37\n",
            "     3         459.17\n",
            "     4         388.39\n",
            "     5          28.15\n",
            "Sun  2         684.84\n",
            "     3         332.76\n",
            "     4         480.39\n",
            "     5          81.00\n",
            "     6          48.17\n"
          ]
        }
      ]
    },
    {
      "cell_type": "markdown",
      "metadata": {
        "id": "avIu0K-Mje1U"
      },
      "source": [
        "**Q**: Which day has the maximum total bill amount?\n",
        "\n",
        "**A**: Saturday\n",
        "\n",
        "**Q**: What is the size of the people with the maximum total bill amount?\n",
        "\n",
        "**A**: 2\n"
      ]
    },
    {
      "cell_type": "markdown",
      "metadata": {
        "id": "LEcuMrf5Fd5i"
      },
      "source": [
        "After this activity, there would be two pivot tables, one which displays the median tips value and the other one which displays the total bill amount."
      ]
    },
    {
      "cell_type": "markdown",
      "metadata": {
        "id": "akBJfl-1CJBB"
      },
      "source": [
        "---"
      ]
    },
    {
      "cell_type": "markdown",
      "metadata": {
        "id": "qMM5fXlOkdWL"
      },
      "source": [
        "#### Activity 2: Subplots\n",
        "\n",
        "1. Create count plots displaying the `gender` grouped by the `day`, `smoker`, and `time` together through just one figure."
      ]
    },
    {
      "cell_type": "code",
      "metadata": {
        "id": "tOvBL5netu1A",
        "colab": {
          "base_uri": "https://localhost:8080/",
          "height": 334
        },
        "outputId": "dd8bb318-16fd-457d-f07d-8710f1f80f5f"
      },
      "source": [
        "# Create count plots displaying 'gender' grouped by 'day', 'smoker', and 'time' in just one figure.\n",
        "fig1, axis1 = plt.subplots(nrows = 1, ncols = 3, figsize = (14, 5))\n",
        "#plt.style.use(\"dark_background\")\n",
        "sns.countplot(x = \"day\", data = tips_df, hue = \"sex\", ax= axis1[0], color= \"red\")\n",
        "sns.countplot(x = \"smoker\", data = tips_df, hue = \"sex\", ax= axis1[1], color= \"purple\")\n",
        "sns.countplot(x = \"time\", data = tips_df, hue = \"sex\", ax= axis1[2], color= \"orange\")\n",
        "plt.show()"
      ],
      "execution_count": 23,
      "outputs": [
        {
          "output_type": "display_data",
          "data": {
            "image/png": "[encoded data removed]",
            "text/plain": [
              "<Figure size 1008x360 with 3 Axes>"
            ]
          },
          "metadata": {}
        }
      ]
    },
    {
      "cell_type": "markdown",
      "metadata": {
        "id": "gFLPi4yk0lKi"
      },
      "source": [
        "2. Create box plots displaying `total_bill` amount and `tip` grouped by `day`, `smoker`, and `time` in just one figure.\n",
        "\n",
        "  "
      ]
    },
    {
      "cell_type": "code",
      "metadata": {
        "id": "89sCKkOIysm5",
        "colab": {
          "base_uri": "https://localhost:8080/",
          "height": 497
        },
        "outputId": "49fd85a1-15df-4e68-d398-9254d91a2a77"
      },
      "source": [
        "# Create box plots displaying the 'total_bill' amount and 'tip' grouped by 'day', 'smoker', and 'time' in just one figure.\n",
        "plt.style.use(\"dark_background\")\n",
        "fig2, axis2 = plt.subplots(nrows= 2, ncols= 3, figsize = (20, 8))\n",
        "# For 'total_bill' column.\n",
        "sns.boxplot(x = \"day\", y = \"total_bill\", hue = \"sex\", data= tips_df, ax= axis2[0,0], color= \"red\")\n",
        "sns.boxplot(x = \"smoker\", y = \"total_bill\", hue = \"sex\", data= tips_df, ax= axis2[0,1], color= \"purple\")\n",
        "sns.boxplot(x = \"time\", y = \"total_bill\", hue = \"sex\", data= tips_df, ax= axis2[0,2], color= \"orange\")\n",
        "# For 'tip' column.\n",
        "sns.boxplot(x = \"day\", y = \"tip\", hue = \"sex\", data= tips_df, ax= axis2[1,0], color= \"aqua\")\n",
        "sns.boxplot(x = \"smoker\", y = \"tip\", hue = \"sex\", data= tips_df, ax= axis2[1,1], color= \"green\")\n",
        "sns.boxplot(x = \"time\", y = \"tip\", hue = \"sex\", data= tips_df, ax= axis2[1,2], color= \"brown\")\n",
        "plt.show()"
      ],
      "execution_count": 27,
      "outputs": [
        {
          "output_type": "display_data",
          "data": {
            "image/png": "[encoded data removed]",
            "text/plain": [
              "<Figure size 1440x576 with 6 Axes>"
            ]
          },
          "metadata": {}
        }
      ]
    },
    {
      "cell_type": "markdown",
      "metadata": {
        "id": "AlbNhSwYIOM7"
      },
      "source": [
        "**Hint:** To get an axis at second row and third column from a grid of, say 3 rows and 5 columns figure, use `axis[1, 2]`. \n",
        "\n",
        "After this activity, the user must be able to view multiple plots in just one figure using the concept of subplots."
      ]
    },
    {
      "cell_type": "markdown",
      "metadata": {
        "id": "73Rd-OFCzseh"
      },
      "source": [
        "---"
      ]
    },
    {
      "cell_type": "markdown",
      "metadata": {
        "id": "dzWdzJ-T0NBJ"
      },
      "source": [
        "### Submitting the Project:\n",
        "\n",
        "1. After finishing the project, click on the **Share** button on the top right corner of the notebook. A new dialog box will appear.\n",
        "\n",
        "  <img src='https://student-datasets-bucket.s3.ap-south-1.amazonaws.com/images/project-share-images/2_share_button.png' width=500>\n",
        "\n",
        "2. In the dialog box, make sure that '**Anyone on the Internet with this link can view**' option is selected and then click on the **Copy link** button.\n",
        "\n",
        "   <img src='https://student-datasets-bucket.s3.ap-south-1.amazonaws.com/images/project-share-images/3_copy_link.png' width=500>\n",
        "\n",
        "3. The link of the duplicate copy (named as **YYYY-MM-DD_StudentName_Project98**) of the notebook will get copied.\n",
        "\n",
        "   <img src='https://student-datasets-bucket.s3.ap-south-1.amazonaws.com/images/project-share-images/4_copy_link_confirmation.png' width=500>\n",
        "\n",
        "4. Go to your dashboard and click on the **My Projects** option.\n",
        "   \n",
        "   <img src='https://student-datasets-bucket.s3.ap-south-1.amazonaws.com/images/project-share-images/5_student_dashboard.png' width=800>\n",
        "\n",
        "  <img src='https://student-datasets-bucket.s3.ap-south-1.amazonaws.com/images/project-share-images/6_my_projects.png' width=800>\n",
        "\n",
        "5. Click on the **View Project** button for the project you want to submit.\n",
        "\n",
        "   <img src='https://student-datasets-bucket.s3.ap-south-1.amazonaws.com/images/project-share-images/7_view_project.png' width=800>\n",
        "\n",
        "6. Click on the **Submit Project Here** button.\n",
        "\n",
        "   <img src='https://student-datasets-bucket.s3.ap-south-1.amazonaws.com/images/project-share-images/8_submit_project.png' width=800>\n",
        "\n",
        "7. Paste the link to the project file named as **YYYY-MM-DD_StudentName_Project98** in the URL box and then click on the **Submit** button.\n",
        "\n",
        "   <img src='https://student-datasets-bucket.s3.ap-south-1.amazonaws.com/images/project-share-images/9_enter_project_url.png' width=800> "
      ]
    },
    {
      "cell_type": "markdown",
      "metadata": {
        "id": "Cx87gvBr0JP6"
      },
      "source": [
        "---"
      ]
    }
  ]
}