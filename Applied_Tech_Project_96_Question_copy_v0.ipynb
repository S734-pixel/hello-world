{
  "nbformat": 4,
  "nbformat_minor": 0,
  "metadata": {
    "colab": {
      "name": "Applied Tech. Project 96: Question_copy_v0.ipynb",
      "provenance": [],
      "collapsed_sections": [],
      "include_colab_link": true
    },
    "kernelspec": {
      "name": "python3",
      "display_name": "Python 3"
    },
    "language_info": {
      "name": "python"
    }
  },
  "cells": [
    {
      "cell_type": "markdown",
      "metadata": {
        "id": "view-in-github",
        "colab_type": "text"
      },
      "source": [
        "<a href=\"https://colab.research.google.com/github/S734-pixel/hello-world/blob/master/Applied_Tech_Project_96_Question_copy_v0.ipynb\" target=\"_parent\"><img src=\"https://colab.research.google.com/assets/colab-badge.svg\" alt=\"Open In Colab\"/></a>"
      ]
    },
    {
      "cell_type": "markdown",
      "metadata": {
        "id": "erYQyGJOT0Ya"
      },
      "source": [
        "### Instructions"
      ]
    },
    {
      "cell_type": "markdown",
      "metadata": {
        "id": "bEyBzxYRhrLG"
      },
      "source": [
        "#### Goal of the Project\n",
        "\n",
        "This project is designed for you to practice and solve the activities that are based on the concepts covered in the lessons: \n",
        "\n",
        "  * Streamlit Widgets II\n",
        "  * Multipage Streamlit App I"
      ]
    },
    {
      "cell_type": "markdown",
      "metadata": {
        "id": "pIrCR0_QMp18"
      },
      "source": [
        "---"
      ]
    },
    {
      "cell_type": "markdown",
      "metadata": {
        "id": "RA5O2ykPiU-0"
      },
      "source": [
        "#### Getting Started:\n",
        "\n",
        "1. Click on this link to open the Colab file for this project.\n",
        "\n",
        "   https://colab.research.google.com/drive/1_2dMWdc8o-GTY0_ktUikE1aQD9Ia5C2d\n",
        "\n",
        "2. Create a duplicate copy of the Colab file as described below.\n",
        "\n",
        "  - Click on the **File menu**. A new drop-down list will appear.\n",
        "\n",
        "   <img src='https://student-datasets-bucket.s3.ap-south-1.amazonaws.com/images/lesson-0/0_file_menu.png' width=500>\n",
        "\n",
        "  - Click on the **Save a copy in Drive** option. A duplicate copy will get created. It will open up in the new tab on your web browser.\n",
        "\n",
        "  <img src='https://student-datasets-bucket.s3.ap-south-1.amazonaws.com/images/lesson-0/1_create_colab_duplicate_copy.png' width=500>\n",
        "\n",
        "3. After creating the duplicate copy of the notebook, please rename it in the **YYYY-MM-DD_StudentName_Project96** format.\n",
        "\n",
        "4. Now, write your code in the prescribed code cells.\n"
      ]
    },
    {
      "cell_type": "markdown",
      "metadata": {
        "id": "UhcsDjVMiUT3"
      },
      "source": [
        "---"
      ]
    },
    {
      "cell_type": "markdown",
      "metadata": {
        "id": "oHEruqrlZewu"
      },
      "source": [
        "#### Problem Statement\n",
        "\n",
        "In this project you need to create a web app that will display the name of the app and provide data description in the home page."
      ]
    },
    {
      "cell_type": "markdown",
      "metadata": {
        "id": "qIVNEyp4Mrem"
      },
      "source": [
        "---"
      ]
    },
    {
      "cell_type": "markdown",
      "metadata": {
        "id": "2LpOy28nkFG_"
      },
      "source": [
        "### Dataset Description\n",
        "\n",
        "The Census dataset includes 32561 instances with 14 features and 1 target column which can be briefed as:\n",
        "\n",
        "|Field|Description|\n",
        "|---:|:---|\n",
        "|age|age of the person, Integer.|\n",
        "|work-class| employment information about the individual, Categorical.|\n",
        "|fnlwgt| unknown weights, Integer.|\n",
        "|education| highest level of education obtained, Categorical.|\n",
        "|education-years|number of years of education, Integer.|\n",
        "|marital-status| marital status of the person, Categorical.|\n",
        "|occupation|job title, Categorical.|\n",
        "|relationship| individual relation in the family-like wife, husband, and so on, Categorical.|\n",
        "|race|Categorical.|\n",
        "|sex| gender, Male, or Female.|\n",
        "|capital-gain| gain from sources other than salary/wages, Integer.|\n",
        "|capital-loss| loss from sources other than salary/wages, Integer.|\n",
        "|hours-per-week| hours worked per week, Integer.|\n",
        "|native-country| name of the native country, Categorical.|\n",
        "|income-group| annual income, Categorical,  **<=50k** or **>50k**.|\n",
        "\n",
        "\n",
        "**Notes:**\n",
        "1. The dataset has no header row for the column name. (Can add column names manually)\n",
        "2. There are invalid values in the dataset marked as **\"?\"**.\n",
        "3. As the information about **fnlwgt** is non-existent it can be removed before model training.\n",
        "4. Take note of the **whitespaces (\" \")**  throughout the dataset. \n",
        "\n",
        "\n",
        "\n",
        "**Dataset Credits:** https://archive.ics.uci.edu/ml/datasets/adult \n",
        "\n",
        "**Dataset Creator:**\n",
        "```\n",
        "Dua, D., & Graff, C.. (2017). UCI Machine Learning Repository.\n",
        "```"
      ]
    },
    {
      "cell_type": "markdown",
      "metadata": {
        "id": "83FgC947OzV4"
      },
      "source": [
        "---"
      ]
    },
    {
      "cell_type": "markdown",
      "metadata": {
        "id": "dkkg2QzEu3lP"
      },
      "source": [
        "### List of Activities\n",
        " \n",
        "**Activity 1:** Main Page Configuration\n",
        "  \n",
        "**Activity 2:** View Data Configuration"
      ]
    },
    {
      "cell_type": "markdown",
      "metadata": {
        "id": "eUc0Lq-HlQ3O"
      },
      "source": [
        "---"
      ]
    },
    {
      "cell_type": "markdown",
      "metadata": {
        "id": "DQSgqaR1lire"
      },
      "source": [
        "#### Creating Python File for the Census Visualisation Web App\n",
        "\n",
        "\n",
        "In this activity, you have to create a Python file `census_main.py` in the Sublime editor and save it in the `Python_scripts` folder. \n",
        "\n",
        "Copy the code given below in the `census_main.py` file. You are already aware of this code which creates a function that will load the data from the csv file.\n",
        "\n",
        "**Dataset Link:** https://student-datasets-bucket.s3.ap-south-1.amazonaws.com/whitehat-ds-datasets/adult.csv\n",
        "\n",
        "**Note:** Do not run the code shown below. It will throw an error.\n"
      ]
    },
    {
      "cell_type": "code",
      "metadata": {
        "id": "4AWWc0FxkxCq",
        "colab": {
          "base_uri": "https://localhost:8080/",
          "height": 374
        },
        "outputId": "2eeb3b06-e90a-4074-e7ff-6ceca049a8c0"
      },
      "source": [
        "# Open Sublime text editor, create a new Python file, copy the following code in it and save it as 'census_main.py'.\n",
        "# Import modules\n",
        "import numpy as np\n",
        "import pandas as pd\n",
        "\n",
        "import streamlit as st\n",
        "@st.cache()\n",
        "def load_data():\n",
        "\t# Load the Adult Income dataset into DataFrame.\n",
        "\n",
        "\tdf = pd.read_csv('https://student-datasets-bucket.s3.ap-south-1.amazonaws.com/whitehat-ds-datasets/adult.csv', header=None)\n",
        "\tdf.head()\n",
        "\n",
        "\t# Rename the column names in the DataFrame using the list given above. \n",
        "\n",
        "\t# Create the list\n",
        "\tcolumn_name =['age', 'workclass', 'fnlwgt', 'education', 'education-years', 'marital-status', 'occupation', \n",
        "               'relationship', 'race','gender','capital-gain', 'capital-loss', 'hours-per-week', 'native-country', 'income']\n",
        "\n",
        "\t# Rename the columns using 'rename()'\n",
        "\tfor i in range(df.shape[1]):\n",
        "\t  df.rename(columns={i:column_name[i]},inplace=True)\n",
        "\n",
        "\t# Print the first five rows of the DataFrame\n",
        "\tdf.head()\n",
        "\n",
        "\t# Replace the invalid values ' ?' with 'np.nan'.\n",
        "\n",
        "\tdf['native-country'] = df['native-country'].replace(' ?',np.nan)\n",
        "\tdf['workclass'] = df['workclass'].replace(' ?',np.nan)\n",
        "\tdf['occupation'] = df['occupation'].replace(' ?',np.nan)\n",
        "\n",
        "\t# Delete the rows with invalid values and the column not required \n",
        "\n",
        "\t# Delete the rows with the 'dropna()' function\n",
        "\tdf.dropna(inplace=True)\n",
        "\n",
        "\t# Delete the column with the 'drop()' function\n",
        "\tdf.drop(columns='fnlwgt',axis=1,inplace=True)\n",
        "\n",
        "\treturn df\n",
        "\n",
        "census_df = load_data()"
      ],
      "execution_count": 2,
      "outputs": [
        {
          "output_type": "error",
          "ename": "ModuleNotFoundError",
          "evalue": "ignored",
          "traceback": [
            "\u001b[0;31m---------------------------------------------------------------------------\u001b[0m",
            "\u001b[0;31mModuleNotFoundError\u001b[0m                       Traceback (most recent call last)",
            "\u001b[0;32m<ipython-input-2-e702313f1cdd>\u001b[0m in \u001b[0;36m<module>\u001b[0;34m()\u001b[0m\n\u001b[1;32m      4\u001b[0m \u001b[0;32mimport\u001b[0m \u001b[0mpandas\u001b[0m \u001b[0;32mas\u001b[0m \u001b[0mpd\u001b[0m\u001b[0;34m\u001b[0m\u001b[0;34m\u001b[0m\u001b[0m\n\u001b[1;32m      5\u001b[0m \u001b[0;34m\u001b[0m\u001b[0m\n\u001b[0;32m----> 6\u001b[0;31m \u001b[0;32mimport\u001b[0m \u001b[0mstreamlit\u001b[0m \u001b[0;32mas\u001b[0m \u001b[0mst\u001b[0m\u001b[0;34m\u001b[0m\u001b[0;34m\u001b[0m\u001b[0m\n\u001b[0m\u001b[1;32m      7\u001b[0m \u001b[0;34m@\u001b[0m\u001b[0mst\u001b[0m\u001b[0;34m.\u001b[0m\u001b[0mcache\u001b[0m\u001b[0;34m(\u001b[0m\u001b[0;34m)\u001b[0m\u001b[0;34m\u001b[0m\u001b[0;34m\u001b[0m\u001b[0m\n\u001b[1;32m      8\u001b[0m \u001b[0;32mdef\u001b[0m \u001b[0mload_data\u001b[0m\u001b[0;34m(\u001b[0m\u001b[0;34m)\u001b[0m\u001b[0;34m:\u001b[0m\u001b[0;34m\u001b[0m\u001b[0;34m\u001b[0m\u001b[0m\n",
            "\u001b[0;31mModuleNotFoundError\u001b[0m: No module named 'streamlit'",
            "",
            "\u001b[0;31m---------------------------------------------------------------------------\u001b[0;32m\nNOTE: If your import is failing due to a missing package, you can\nmanually install dependencies using either !pip or !apt.\n\nTo view examples of installing some common dependencies, click the\n\"Open Examples\" button below.\n\u001b[0;31m---------------------------------------------------------------------------\u001b[0m\n"
          ],
          "errorDetails": {
            "actions": [
              {
                "action": "open_url",
                "actionText": "Open Examples",
                "url": "/notebooks/snippets/importing_libraries.ipynb"
              }
            ]
          }
        }
      ]
    },
    {
      "cell_type": "markdown",
      "metadata": {
        "id": "akBJfl-1CJBB"
      },
      "source": [
        "---"
      ]
    },
    {
      "cell_type": "markdown",
      "metadata": {
        "id": "TVFgK_fp6fqT"
      },
      "source": [
        "#### Activity 1: Main page configuration \n",
        "\n",
        "In the main page i.e `census_main.py` , perform the following task:\n",
        "\n",
        "1. Modify the `page_title`, `page_icon`, `layout` and `initial_sidebar_state` attributes to configure the default settings of the web page. \n",
        "\n",
        " <img src='https://i.imgur.com/u7huSLR.png' width=300/>\n",
        " \n",
        " **Hint:** Use the `set_page_config()` function.\n",
        "\n",
        "2. Add the name of the app and its description.\n",
        "\n",
        "  <img src='https://i.imgur.com/PSeajjk.png' width=500/>\n",
        "\n",
        "\n",
        "  "
      ]
    },
    {
      "cell_type": "code",
      "metadata": {
        "id": "LcL5BKVP6fCc",
        "colab": {
          "base_uri": "https://localhost:8080/",
          "height": 374
        },
        "outputId": "a4134ca2-52a8-4775-a88b-0a1ce3b1fd72"
      },
      "source": [
        "# Configure the main page by setting its title and icon that will be displayed in a browser tab.\n",
        "# Import the streamlit Python module.\n",
        "import streamlit as st\n",
        "# Configure your home page.\n",
        "st.set_page_config(page_title = \"census web app\", page_icon = \"random\", layout = \"centered\", initial_sidebar_state = \"auto\")\n",
        "# Set the title to the home page contents.\n",
        "st.title(\"Census Visualisation Web App\")\n",
        "# Provide a brief description for the web app.\n",
        "st.write(\"This app allows a user to explore and visualize the census data\")"
      ],
      "execution_count": 3,
      "outputs": [
        {
          "output_type": "error",
          "ename": "ModuleNotFoundError",
          "evalue": "ignored",
          "traceback": [
            "\u001b[0;31m---------------------------------------------------------------------------\u001b[0m",
            "\u001b[0;31mModuleNotFoundError\u001b[0m                       Traceback (most recent call last)",
            "\u001b[0;32m<ipython-input-3-b01ae5bf83e1>\u001b[0m in \u001b[0;36m<module>\u001b[0;34m()\u001b[0m\n\u001b[1;32m      1\u001b[0m \u001b[0;31m# Configure the main page by setting its title and icon that will be displayed in a browser tab.\u001b[0m\u001b[0;34m\u001b[0m\u001b[0;34m\u001b[0m\u001b[0;34m\u001b[0m\u001b[0m\n\u001b[1;32m      2\u001b[0m \u001b[0;31m# Import the streamlit Python module.\u001b[0m\u001b[0;34m\u001b[0m\u001b[0;34m\u001b[0m\u001b[0;34m\u001b[0m\u001b[0m\n\u001b[0;32m----> 3\u001b[0;31m \u001b[0;32mimport\u001b[0m \u001b[0mstreamlit\u001b[0m \u001b[0;32mas\u001b[0m \u001b[0mst\u001b[0m\u001b[0;34m\u001b[0m\u001b[0;34m\u001b[0m\u001b[0m\n\u001b[0m\u001b[1;32m      4\u001b[0m \u001b[0;31m# Configure your home page.\u001b[0m\u001b[0;34m\u001b[0m\u001b[0;34m\u001b[0m\u001b[0;34m\u001b[0m\u001b[0m\n\u001b[1;32m      5\u001b[0m \u001b[0mst\u001b[0m\u001b[0;34m.\u001b[0m\u001b[0mset_page_config\u001b[0m\u001b[0;34m(\u001b[0m\u001b[0mpage_title\u001b[0m \u001b[0;34m=\u001b[0m \u001b[0;34m\"census web app\"\u001b[0m\u001b[0;34m,\u001b[0m \u001b[0mpage_icon\u001b[0m \u001b[0;34m=\u001b[0m \u001b[0;34m\"random\"\u001b[0m\u001b[0;34m,\u001b[0m \u001b[0mlayout\u001b[0m \u001b[0;34m=\u001b[0m \u001b[0;34m\"centered\"\u001b[0m\u001b[0;34m,\u001b[0m \u001b[0minitial_sidebar_state\u001b[0m \u001b[0;34m=\u001b[0m \u001b[0;34m\"auto\"\u001b[0m\u001b[0;34m)\u001b[0m\u001b[0;34m\u001b[0m\u001b[0;34m\u001b[0m\u001b[0m\n",
            "\u001b[0;31mModuleNotFoundError\u001b[0m: No module named 'streamlit'",
            "",
            "\u001b[0;31m---------------------------------------------------------------------------\u001b[0;32m\nNOTE: If your import is failing due to a missing package, you can\nmanually install dependencies using either !pip or !apt.\n\nTo view examples of installing some common dependencies, click the\n\"Open Examples\" button below.\n\u001b[0;31m---------------------------------------------------------------------------\u001b[0m\n"
          ],
          "errorDetails": {
            "actions": [
              {
                "action": "open_url",
                "actionText": "Open Examples",
                "url": "/notebooks/snippets/importing_libraries.ipynb"
              }
            ]
          }
        }
      ]
    },
    {
      "cell_type": "markdown",
      "metadata": {
        "id": "7vDlD2qeliBz"
      },
      "source": [
        "---"
      ]
    },
    {
      "cell_type": "markdown",
      "metadata": {
        "id": "oOfumZ-6pv98"
      },
      "source": [
        "####Activity 2: View Dataset and Explore its Column Data\n",
        "\n",
        "In this activity, you have to perform the following task on the same page i.e `census_main.py` :\n",
        "\n",
        "1. Display the original dataset. \n",
        "\n",
        "  <img src='https://i.imgur.com/hW8Kylv.png' width=500/>\n",
        "\n",
        " **Hint:** Use the `st.beta_expander()` function to display or hide the DataFrame.\n",
        "\n",
        "2. Display the **column names**, **column data-type**, individual **column data** and the **mean**, **median**, **quartile**, **standard deviation** values of the numeric columns of a dataset using the `table()` function of the Streamlit module.\n",
        "\n",
        " **Hint:** Display the widgets horizontally using the **`st.beta_columns()`** function."
      ]
    },
    {
      "cell_type": "code",
      "metadata": {
        "id": "hVxswSOrcsZJ"
      },
      "source": [
        "# View Dataset Configuration\n",
        "st.header(\"View Data\")\n",
        "# Add an expander and display the dataset as a static table within the expander.\n",
        "with st.beta_expander(\"View Data Set\"):\n",
        "  st.table(census_df)\n",
        "# Create three beta_columns.\n",
        "beta_col1, beta_col2, beta_col3 = st.beta_columns(3)\n",
        "# Add a checkbox in the first column. Display the column names of 'census_df' on the click of checkbox.\n",
        "with beta_col1:\n",
        "  if st.checkbox(\"show all column name\"):\n",
        "    st.table(list(census_df.columns))\n",
        "# Add a checkbox in the second column. Display the column data-types of 'census_df' on the click of checkbox.\n",
        "with beta_col2:\n",
        "  if st.checkbox(\"show all column datatype\"):\n",
        "    st.table(list(census_df.dtypes))\n",
        "# Add a checkbox in the third column followed by a selectbox which accepts the column name whose data needs to be displayed.\n",
        "with beta_col3:\n",
        "  if st.checkbox(\"show all column data\"):\n",
        "    column_data = st.selectbox(\"select column\", tuple(census_df.columns))\n",
        "    st.table(list(census_df.column_data))\n",
        "# Display summary of the dataset on the click of checkbox.\n",
        "if st.checkbox(\"show all summary\"):\n",
        "  st.table(list(census_df.describe()))"
      ],
      "execution_count": null,
      "outputs": []
    },
    {
      "cell_type": "markdown",
      "metadata": {
        "id": "8WKE-rcDkX0R"
      },
      "source": [
        "**Expected Output of the Home Page**:\n",
        "\n",
        "<img src='https://i.imgur.com/2cLTGHq.png' width=660/>"
      ]
    },
    {
      "cell_type": "markdown",
      "metadata": {
        "id": "629azBR0kLEh"
      },
      "source": [
        "---"
      ]
    },
    {
      "cell_type": "markdown",
      "metadata": {
        "id": "N65V7cn8ihsI"
      },
      "source": [
        "### Submitting the Project:\n",
        "\n",
        "1. After finishing the project, click on the **Share** button on the top right corner of the notebook. A new dialog box will appear.\n",
        "\n",
        "  <img src='https://student-datasets-bucket.s3.ap-south-1.amazonaws.com/images/project-share-images/2_share_button.png' width=500>\n",
        "\n",
        "2. In the dialog box, make sure that '**Anyone on the Internet with this link can view**' option is selected and then click on the **Copy link** button.\n",
        "\n",
        "   <img src='https://student-datasets-bucket.s3.ap-south-1.amazonaws.com/images/project-share-images/3_copy_link.png' width=500>\n",
        "\n",
        "3. The link of the duplicate copy (named as **YYYY-MM-DD_StudentName_Project96**) of the notebook will get copied.\n",
        "\n",
        "   <img src='https://student-datasets-bucket.s3.ap-south-1.amazonaws.com/images/project-share-images/4_copy_link_confirmation.png' width=500>\n",
        "\n",
        "4. Go to your dashboard and click on the **My Projects** option.\n",
        "   \n",
        "   <img src='https://student-datasets-bucket.s3.ap-south-1.amazonaws.com/images/project-share-images/5_student_dashboard.png' width=800>\n",
        "\n",
        "  <img src='https://student-datasets-bucket.s3.ap-south-1.amazonaws.com/images/project-share-images/6_my_projects.png' width=800>\n",
        "\n",
        "5. Click on the **View Project** button for the project you want to submit.\n",
        "\n",
        "   <img src='https://student-datasets-bucket.s3.ap-south-1.amazonaws.com/images/project-share-images/7_view_project.png' width=800>\n",
        "\n",
        "6. Click on the **Submit Project Here** button.\n",
        "\n",
        "   <img src='https://student-datasets-bucket.s3.ap-south-1.amazonaws.com/images/project-share-images/8_submit_project.png' width=800>\n",
        "\n",
        "7. Paste the link to the project file named as **YYYY-MM-DD_StudentName_Project96** in the URL box and then click on the **Submit** button.\n",
        "\n",
        "   <img src='https://student-datasets-bucket.s3.ap-south-1.amazonaws.com/images/project-share-images/9_enter_project_url.png' width=800> "
      ]
    },
    {
      "cell_type": "markdown",
      "metadata": {
        "id": "kdbHRZWKihJn"
      },
      "source": [
        "---"
      ]
    }
  ]
}